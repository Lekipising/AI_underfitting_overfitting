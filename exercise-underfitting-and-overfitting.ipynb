{
 "cells": [
  {
   "cell_type": "markdown",
   "id": "588717fd",
   "metadata": {
    "papermill": {
     "duration": 0.013854,
     "end_time": "2022-02-18T18:36:46.832701",
     "exception": false,
     "start_time": "2022-02-18T18:36:46.818847",
     "status": "completed"
    },
    "tags": []
   },
   "source": [
    "**This notebook is an exercise in the [Introduction to Machine Learning](https://www.kaggle.com/learn/intro-to-machine-learning) course.  You can reference the tutorial at [this link](https://www.kaggle.com/dansbecker/underfitting-and-overfitting).**\n",
    "\n",
    "---\n"
   ]
  },
  {
   "cell_type": "markdown",
   "id": "79aaa1d3",
   "metadata": {
    "papermill": {
     "duration": 0.011911,
     "end_time": "2022-02-18T18:36:46.859581",
     "exception": false,
     "start_time": "2022-02-18T18:36:46.847670",
     "status": "completed"
    },
    "tags": []
   },
   "source": []
  },
  {
   "cell_type": "markdown",
   "id": "33d3c190",
   "metadata": {
    "papermill": {
     "duration": 0.01207,
     "end_time": "2022-02-18T18:36:46.883959",
     "exception": false,
     "start_time": "2022-02-18T18:36:46.871889",
     "status": "completed"
    },
    "tags": []
   },
   "source": [
    "**Members**\n",
    "* Caleb Mugisha\n",
    "* Serge Tassiga\n",
    "* Bello Moussa\n",
    "* Cedric Murairi\n",
    "* Liplan Lekipising"
   ]
  },
  {
   "cell_type": "markdown",
   "id": "b7c0ed69",
   "metadata": {
    "papermill": {
     "duration": 0.01241,
     "end_time": "2022-02-18T18:36:46.908665",
     "exception": false,
     "start_time": "2022-02-18T18:36:46.896255",
     "status": "completed"
    },
    "tags": []
   },
   "source": [
    "## Recap\n",
    "You've built your first model, and now it's time to optimize the size of the tree to make better predictions. Run this cell to set up your coding environment where the previous step left off."
   ]
  },
  {
   "cell_type": "code",
   "execution_count": 1,
   "id": "f6fbddbd",
   "metadata": {
    "execution": {
     "iopub.execute_input": "2022-02-18T18:36:46.942708Z",
     "iopub.status.busy": "2022-02-18T18:36:46.941494Z",
     "iopub.status.idle": "2022-02-18T18:36:48.425150Z",
     "shell.execute_reply": "2022-02-18T18:36:48.424240Z",
     "shell.execute_reply.started": "2022-02-18T18:17:46.799037Z"
    },
    "papermill": {
     "duration": 1.503083,
     "end_time": "2022-02-18T18:36:48.425358",
     "exception": false,
     "start_time": "2022-02-18T18:36:46.922275",
     "status": "completed"
    },
    "tags": []
   },
   "outputs": [
    {
     "name": "stdout",
     "output_type": "stream",
     "text": [
      "Validation MAE: 29,653\n",
      "\n",
      "Setup complete\n"
     ]
    }
   ],
   "source": [
    "# Code you have previously used to load data\n",
    "import pandas as pd\n",
    "from sklearn.metrics import mean_absolute_error\n",
    "from sklearn.model_selection import train_test_split\n",
    "from sklearn.tree import DecisionTreeRegressor\n",
    "\n",
    "\n",
    "# Path of the file to read\n",
    "iowa_file_path = '../input/home-data-for-ml-course/train.csv'\n",
    "\n",
    "home_data = pd.read_csv(iowa_file_path)\n",
    "# Create target object and call it y\n",
    "y = home_data.SalePrice\n",
    "# Create X\n",
    "features = ['LotArea', 'YearBuilt', '1stFlrSF', '2ndFlrSF', 'FullBath', 'BedroomAbvGr', 'TotRmsAbvGrd']\n",
    "X = home_data[features]\n",
    "\n",
    "# Split into validation and training data\n",
    "train_X, val_X, train_y, val_y = train_test_split(X, y, random_state=1)\n",
    "\n",
    "# Specify Model\n",
    "iowa_model = DecisionTreeRegressor(random_state=1)\n",
    "# Fit Model\n",
    "iowa_model.fit(train_X, train_y)\n",
    "\n",
    "# Make validation predictions and calculate mean absolute error\n",
    "val_predictions = iowa_model.predict(val_X)\n",
    "val_mae = mean_absolute_error(val_predictions, val_y)\n",
    "print(\"Validation MAE: {:,.0f}\".format(val_mae))\n",
    "\n",
    "# Set up code checking\n",
    "from learntools.core import binder\n",
    "binder.bind(globals())\n",
    "from learntools.machine_learning.ex5 import *\n",
    "print(\"\\nSetup complete\")"
   ]
  },
  {
   "cell_type": "markdown",
   "id": "d1dc7d0c",
   "metadata": {
    "papermill": {
     "duration": 0.012729,
     "end_time": "2022-02-18T18:36:48.452098",
     "exception": false,
     "start_time": "2022-02-18T18:36:48.439369",
     "status": "completed"
    },
    "tags": []
   },
   "source": [
    "# Exercises\n",
    "You could write the function `get_mae` yourself. For now, we'll supply it. This is the same function you read about in the previous lesson. Just run the cell below."
   ]
  },
  {
   "cell_type": "code",
   "execution_count": 2,
   "id": "1b624ee5",
   "metadata": {
    "execution": {
     "iopub.execute_input": "2022-02-18T18:36:48.482856Z",
     "iopub.status.busy": "2022-02-18T18:36:48.481809Z",
     "iopub.status.idle": "2022-02-18T18:36:48.487696Z",
     "shell.execute_reply": "2022-02-18T18:36:48.488282Z",
     "shell.execute_reply.started": "2022-02-18T18:13:40.172569Z"
    },
    "papermill": {
     "duration": 0.023291,
     "end_time": "2022-02-18T18:36:48.488485",
     "exception": false,
     "start_time": "2022-02-18T18:36:48.465194",
     "status": "completed"
    },
    "tags": []
   },
   "outputs": [],
   "source": [
    "def get_mae(max_leaf_nodes, train_X, val_X, train_y, val_y):\n",
    "    model = DecisionTreeRegressor(max_leaf_nodes=max_leaf_nodes, random_state=0)\n",
    "    model.fit(train_X, train_y)\n",
    "    preds_val = model.predict(val_X)\n",
    "    mae = mean_absolute_error(val_y, preds_val)\n",
    "    return(mae)"
   ]
  },
  {
   "cell_type": "markdown",
   "id": "2e92b413",
   "metadata": {
    "papermill": {
     "duration": 0.013435,
     "end_time": "2022-02-18T18:36:48.515301",
     "exception": false,
     "start_time": "2022-02-18T18:36:48.501866",
     "status": "completed"
    },
    "tags": []
   },
   "source": [
    "## Step 1: Compare Different Tree Sizes\n",
    "Write a loop that tries the following values for *max_leaf_nodes* from a set of possible values.\n",
    "\n",
    "Call the *get_mae* function on each value of max_leaf_nodes. Store the output in some way that allows you to select the value of `max_leaf_nodes` that gives the most accurate model on your data."
   ]
  },
  {
   "cell_type": "code",
   "execution_count": 3,
   "id": "69994350",
   "metadata": {
    "execution": {
     "iopub.execute_input": "2022-02-18T18:36:48.547123Z",
     "iopub.status.busy": "2022-02-18T18:36:48.546085Z",
     "iopub.status.idle": "2022-02-18T18:36:48.644350Z",
     "shell.execute_reply": "2022-02-18T18:36:48.643834Z",
     "shell.execute_reply.started": "2022-02-18T18:17:56.723460Z"
    },
    "papermill": {
     "duration": 0.115456,
     "end_time": "2022-02-18T18:36:48.644497",
     "exception": false,
     "start_time": "2022-02-18T18:36:48.529041",
     "status": "completed"
    },
    "tags": []
   },
   "outputs": [
    {
     "name": "stdout",
     "output_type": "stream",
     "text": [
      "Max leaf nodes: 5 : Mean Absolute Error:  35044\n",
      "Max leaf nodes: 25 : Mean Absolute Error:  29016\n",
      "Max leaf nodes: 50 : Mean Absolute Error:  27405\n",
      "Max leaf nodes: 100 : Mean Absolute Error:  27282\n",
      "Max leaf nodes: 250 : Mean Absolute Error:  27893\n",
      "Max leaf nodes: 500 : Mean Absolute Error:  29454\n",
      "\n",
      " 100 27282.50803885739\n"
     ]
    },
    {
     "data": {
      "application/javascript": [
       "parent.postMessage({\"jupyterEvent\": \"custom.exercise_interaction\", \"data\": {\"outcomeType\": 1, \"valueTowardsCompletion\": 0.5, \"interactionType\": 1, \"questionType\": 1, \"questionId\": \"1_BestTreeSize\", \"learnToolsVersion\": \"0.3.4\", \"failureMessage\": \"\", \"exceptionClass\": \"\", \"trace\": \"\"}}, \"*\")"
      ],
      "text/plain": [
       "<IPython.core.display.Javascript object>"
      ]
     },
     "metadata": {},
     "output_type": "display_data"
    },
    {
     "data": {
      "text/markdown": [
       "<span style=\"color:#33cc33\">Correct</span>"
      ],
      "text/plain": [
       "Correct"
      ]
     },
     "metadata": {},
     "output_type": "display_data"
    }
   ],
   "source": [
    "candidate_max_leaf_nodes = [5, 25, 50, 100, 250, 500]\n",
    "# Write loop to find the ideal tree size from candidate_max_leaf_nodes\n",
    "for max_leaf_nodes in candidate_max_leaf_nodes:\n",
    "    my_mae = get_mae(max_leaf_nodes, train_X, val_X, train_y, val_y)\n",
    "    print(\"Max leaf nodes: %d : Mean Absolute Error:  %d\" %(max_leaf_nodes, my_mae))\n",
    "\n",
    "# Store the best value of max_leaf_nodes (it will be either 5, 25, 50, 100, 250 or 500)\n",
    "scores = {leaf_size: get_mae(leaf_size, train_X, val_X, train_y, val_y) for leaf_size in candidate_max_leaf_nodes}\n",
    "\n",
    "best_tree_size = min(scores, key=scores.get)\n",
    "\n",
    "print(\"\\n\", best_tree_size, scores[best_tree_size])\n",
    "\n",
    "# Check your answer\n",
    "step_1.check()"
   ]
  },
  {
   "cell_type": "code",
   "execution_count": 4,
   "id": "83139275",
   "metadata": {
    "execution": {
     "iopub.execute_input": "2022-02-18T18:36:48.678182Z",
     "iopub.status.busy": "2022-02-18T18:36:48.677216Z",
     "iopub.status.idle": "2022-02-18T18:36:48.680337Z",
     "shell.execute_reply": "2022-02-18T18:36:48.680973Z"
    },
    "papermill": {
     "duration": 0.022041,
     "end_time": "2022-02-18T18:36:48.681155",
     "exception": false,
     "start_time": "2022-02-18T18:36:48.659114",
     "status": "completed"
    },
    "tags": []
   },
   "outputs": [],
   "source": [
    "# The lines below will show you a hint or the solution.\n",
    "# step_1.hint() \n",
    "# step_1.solution()"
   ]
  },
  {
   "cell_type": "markdown",
   "id": "f880a83d",
   "metadata": {
    "papermill": {
     "duration": 0.014608,
     "end_time": "2022-02-18T18:36:48.710462",
     "exception": false,
     "start_time": "2022-02-18T18:36:48.695854",
     "status": "completed"
    },
    "tags": []
   },
   "source": [
    "## Step 2: Fit Model Using All Data\n",
    "You know the best tree size. If you were going to deploy this model in practice, you would make it even more accurate by using all of the data and keeping that tree size.  That is, you don't need to hold out the validation data now that you've made all your modeling decisions."
   ]
  },
  {
   "cell_type": "code",
   "execution_count": 5,
   "id": "1b72e88a",
   "metadata": {
    "execution": {
     "iopub.execute_input": "2022-02-18T18:36:48.749516Z",
     "iopub.status.busy": "2022-02-18T18:36:48.748874Z",
     "iopub.status.idle": "2022-02-18T18:36:48.761159Z",
     "shell.execute_reply": "2022-02-18T18:36:48.761809Z",
     "shell.execute_reply.started": "2022-02-18T18:19:29.968322Z"
    },
    "papermill": {
     "duration": 0.036427,
     "end_time": "2022-02-18T18:36:48.761995",
     "exception": false,
     "start_time": "2022-02-18T18:36:48.725568",
     "status": "completed"
    },
    "tags": []
   },
   "outputs": [
    {
     "data": {
      "application/javascript": [
       "parent.postMessage({\"jupyterEvent\": \"custom.exercise_interaction\", \"data\": {\"outcomeType\": 1, \"valueTowardsCompletion\": 0.5, \"interactionType\": 1, \"questionType\": 2, \"questionId\": \"2_FitModelWithAllData\", \"learnToolsVersion\": \"0.3.4\", \"failureMessage\": \"\", \"exceptionClass\": \"\", \"trace\": \"\"}}, \"*\")"
      ],
      "text/plain": [
       "<IPython.core.display.Javascript object>"
      ]
     },
     "metadata": {},
     "output_type": "display_data"
    },
    {
     "data": {
      "text/markdown": [
       "<span style=\"color:#33cc33\">Correct</span>"
      ],
      "text/plain": [
       "Correct"
      ]
     },
     "metadata": {},
     "output_type": "display_data"
    }
   ],
   "source": [
    "# Fill in argument to make optimal size and uncomment\n",
    "final_model = DecisionTreeRegressor(max_leaf_nodes=best_tree_size, random_state=0)\n",
    "\n",
    "# fit the final model and uncomment the next two lines\n",
    "final_model.fit(X, y)\n",
    "\n",
    "# Check your answer\n",
    "step_2.check()"
   ]
  },
  {
   "cell_type": "code",
   "execution_count": 6,
   "id": "ce6ced01",
   "metadata": {
    "execution": {
     "iopub.execute_input": "2022-02-18T18:36:48.798121Z",
     "iopub.status.busy": "2022-02-18T18:36:48.797165Z",
     "iopub.status.idle": "2022-02-18T18:36:48.800390Z",
     "shell.execute_reply": "2022-02-18T18:36:48.800979Z"
    },
    "papermill": {
     "duration": 0.023018,
     "end_time": "2022-02-18T18:36:48.801147",
     "exception": false,
     "start_time": "2022-02-18T18:36:48.778129",
     "status": "completed"
    },
    "tags": []
   },
   "outputs": [],
   "source": [
    "# step_2.hint()\n",
    "# step_2.solution()"
   ]
  },
  {
   "cell_type": "markdown",
   "id": "ef9bbc12",
   "metadata": {
    "papermill": {
     "duration": 0.016255,
     "end_time": "2022-02-18T18:36:48.833519",
     "exception": false,
     "start_time": "2022-02-18T18:36:48.817264",
     "status": "completed"
    },
    "tags": []
   },
   "source": [
    "You've tuned this model and improved your results. But we are still using Decision Tree models, which are not very sophisticated by modern machine learning standards. In the next step you will learn to use Random Forests to improve your models even more.\n",
    "\n",
    "# Keep Going\n",
    "\n",
    "You are ready for **[Random Forests](https://www.kaggle.com/dansbecker/random-forests).**\n"
   ]
  },
  {
   "cell_type": "markdown",
   "id": "bd8b1c00",
   "metadata": {
    "papermill": {
     "duration": 0.016343,
     "end_time": "2022-02-18T18:36:48.866799",
     "exception": false,
     "start_time": "2022-02-18T18:36:48.850456",
     "status": "completed"
    },
    "tags": []
   },
   "source": [
    "---\n",
    "\n",
    "\n",
    "\n",
    "\n",
    "*Have questions or comments? Visit the [course discussion forum](https://www.kaggle.com/learn/intro-to-machine-learning/discussion) to chat with other learners.*"
   ]
  }
 ],
 "metadata": {
  "kernelspec": {
   "display_name": "Python 3",
   "language": "python",
   "name": "python3"
  },
  "language_info": {
   "codemirror_mode": {
    "name": "ipython",
    "version": 3
   },
   "file_extension": ".py",
   "mimetype": "text/x-python",
   "name": "python",
   "nbconvert_exporter": "python",
   "pygments_lexer": "ipython3",
   "version": "3.7.12"
  },
  "papermill": {
   "default_parameters": {},
   "duration": 13.644028,
   "end_time": "2022-02-18T18:36:49.797327",
   "environment_variables": {},
   "exception": null,
   "input_path": "__notebook__.ipynb",
   "output_path": "__notebook__.ipynb",
   "parameters": {},
   "start_time": "2022-02-18T18:36:36.153299",
   "version": "2.3.3"
  }
 },
 "nbformat": 4,
 "nbformat_minor": 5
}
