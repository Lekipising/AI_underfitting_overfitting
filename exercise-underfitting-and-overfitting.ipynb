{
 "cells": [
  {
   "cell_type": "markdown",
   "id": "535077c9",
   "metadata": {
    "papermill": {
     "duration": 0.015257,
     "end_time": "2022-02-18T18:34:41.066845",
     "exception": false,
     "start_time": "2022-02-18T18:34:41.051588",
     "status": "completed"
    },
    "tags": []
   },
   "source": [
    "**This notebook is an exercise in the [Introduction to Machine Learning](https://www.kaggle.com/learn/intro-to-machine-learning) course.  You can reference the tutorial at [this link](https://www.kaggle.com/dansbecker/underfitting-and-overfitting).**\n",
    "\n",
    "---\n"
   ]
  },
  {
   "cell_type": "markdown",
   "id": "3a5da269",
   "metadata": {
    "papermill": {
     "duration": 0.012375,
     "end_time": "2022-02-18T18:34:41.093365",
     "exception": false,
     "start_time": "2022-02-18T18:34:41.080990",
     "status": "completed"
    },
    "tags": []
   },
   "source": []
  },
  {
   "cell_type": "markdown",
   "id": "7ad75497",
   "metadata": {
    "papermill": {
     "duration": 0.013815,
     "end_time": "2022-02-18T18:34:41.121989",
     "exception": false,
     "start_time": "2022-02-18T18:34:41.108174",
     "status": "completed"
    },
    "tags": []
   },
   "source": [
    "**Members**\n",
    "* Caleb Mugisha\n",
    "* Serge Tassiga\n",
    "* Bello Moussa\n",
    "* Cedric Murairi\n",
    "* Liplan Lekipising"
   ]
  },
  {
   "cell_type": "markdown",
   "id": "e6c0b01f",
   "metadata": {
    "papermill": {
     "duration": 0.013983,
     "end_time": "2022-02-18T18:34:41.149605",
     "exception": false,
     "start_time": "2022-02-18T18:34:41.135622",
     "status": "completed"
    },
    "tags": []
   },
   "source": [
    "## Recap\n",
    "You've built your first model, and now it's time to optimize the size of the tree to make better predictions. Run this cell to set up your coding environment where the previous step left off."
   ]
  },
  {
   "cell_type": "code",
   "execution_count": 1,
   "id": "86a6e2d6",
   "metadata": {
    "execution": {
     "iopub.execute_input": "2022-02-18T18:34:41.185285Z",
     "iopub.status.busy": "2022-02-18T18:34:41.182620Z",
     "iopub.status.idle": "2022-02-18T18:34:42.882153Z",
     "shell.execute_reply": "2022-02-18T18:34:42.880867Z",
     "shell.execute_reply.started": "2022-02-18T18:17:46.799037Z"
    },
    "papermill": {
     "duration": 1.718448,
     "end_time": "2022-02-18T18:34:42.882440",
     "exception": false,
     "start_time": "2022-02-18T18:34:41.163992",
     "status": "completed"
    },
    "tags": []
   },
   "outputs": [
    {
     "name": "stdout",
     "output_type": "stream",
     "text": [
      "Validation MAE: 29,653\n",
      "\n",
      "Setup complete\n"
     ]
    }
   ],
   "source": [
    "# Code you have previously used to load data\n",
    "import pandas as pd\n",
    "from sklearn.metrics import mean_absolute_error\n",
    "from sklearn.model_selection import train_test_split\n",
    "from sklearn.tree import DecisionTreeRegressor\n",
    "\n",
    "\n",
    "# Path of the file to read\n",
    "iowa_file_path = '../input/home-data-for-ml-course/train.csv'\n",
    "\n",
    "home_data = pd.read_csv(iowa_file_path)\n",
    "# Create target object and call it y\n",
    "y = home_data.SalePrice\n",
    "# Create X\n",
    "features = ['LotArea', 'YearBuilt', '1stFlrSF', '2ndFlrSF', 'FullBath', 'BedroomAbvGr', 'TotRmsAbvGrd']\n",
    "X = home_data[features]\n",
    "\n",
    "# Split into validation and training data\n",
    "train_X, val_X, train_y, val_y = train_test_split(X, y, random_state=1)\n",
    "\n",
    "# Specify Model\n",
    "iowa_model = DecisionTreeRegressor(random_state=1)\n",
    "# Fit Model\n",
    "iowa_model.fit(train_X, train_y)\n",
    "\n",
    "# Make validation predictions and calculate mean absolute error\n",
    "val_predictions = iowa_model.predict(val_X)\n",
    "val_mae = mean_absolute_error(val_predictions, val_y)\n",
    "print(\"Validation MAE: {:,.0f}\".format(val_mae))\n",
    "\n",
    "# Set up code checking\n",
    "from learntools.core import binder\n",
    "binder.bind(globals())\n",
    "from learntools.machine_learning.ex5 import *\n",
    "print(\"\\nSetup complete\")"
   ]
  },
  {
   "cell_type": "markdown",
   "id": "87c7ade9",
   "metadata": {
    "papermill": {
     "duration": 0.013639,
     "end_time": "2022-02-18T18:34:42.912153",
     "exception": false,
     "start_time": "2022-02-18T18:34:42.898514",
     "status": "completed"
    },
    "tags": []
   },
   "source": [
    "# Exercises\n",
    "You could write the function `get_mae` yourself. For now, we'll supply it. This is the same function you read about in the previous lesson. Just run the cell below."
   ]
  },
  {
   "cell_type": "code",
   "execution_count": 2,
   "id": "9a693752",
   "metadata": {
    "execution": {
     "iopub.execute_input": "2022-02-18T18:34:42.946677Z",
     "iopub.status.busy": "2022-02-18T18:34:42.945515Z",
     "iopub.status.idle": "2022-02-18T18:34:42.951789Z",
     "shell.execute_reply": "2022-02-18T18:34:42.952468Z",
     "shell.execute_reply.started": "2022-02-18T18:13:40.172569Z"
    },
    "papermill": {
     "duration": 0.025918,
     "end_time": "2022-02-18T18:34:42.952686",
     "exception": false,
     "start_time": "2022-02-18T18:34:42.926768",
     "status": "completed"
    },
    "tags": []
   },
   "outputs": [],
   "source": [
    "def get_mae(max_leaf_nodes, train_X, val_X, train_y, val_y):\n",
    "    model = DecisionTreeRegressor(max_leaf_nodes=max_leaf_nodes, random_state=0)\n",
    "    model.fit(train_X, train_y)\n",
    "    preds_val = model.predict(val_X)\n",
    "    mae = mean_absolute_error(val_y, preds_val)\n",
    "    return(mae)"
   ]
  },
  {
   "cell_type": "markdown",
   "id": "06bd301d",
   "metadata": {
    "papermill": {
     "duration": 0.014596,
     "end_time": "2022-02-18T18:34:42.981244",
     "exception": false,
     "start_time": "2022-02-18T18:34:42.966648",
     "status": "completed"
    },
    "tags": []
   },
   "source": [
    "## Step 1: Compare Different Tree Sizes\n",
    "Write a loop that tries the following values for *max_leaf_nodes* from a set of possible values.\n",
    "\n",
    "Call the *get_mae* function on each value of max_leaf_nodes. Store the output in some way that allows you to select the value of `max_leaf_nodes` that gives the most accurate model on your data."
   ]
  },
  {
   "cell_type": "code",
   "execution_count": 3,
   "id": "a3a53555",
   "metadata": {
    "execution": {
     "iopub.execute_input": "2022-02-18T18:34:43.017816Z",
     "iopub.status.busy": "2022-02-18T18:34:43.016506Z",
     "iopub.status.idle": "2022-02-18T18:34:43.121111Z",
     "shell.execute_reply": "2022-02-18T18:34:43.121613Z",
     "shell.execute_reply.started": "2022-02-18T18:17:56.723460Z"
    },
    "papermill": {
     "duration": 0.125748,
     "end_time": "2022-02-18T18:34:43.121818",
     "exception": false,
     "start_time": "2022-02-18T18:34:42.996070",
     "status": "completed"
    },
    "tags": []
   },
   "outputs": [
    {
     "name": "stdout",
     "output_type": "stream",
     "text": [
      "Max leaf nodes: 5  \t\t Mean Absolute Error:  35044\n",
      "Max leaf nodes: 25  \t\t Mean Absolute Error:  29016\n",
      "Max leaf nodes: 50  \t\t Mean Absolute Error:  27405\n",
      "Max leaf nodes: 100  \t\t Mean Absolute Error:  27282\n",
      "Max leaf nodes: 250  \t\t Mean Absolute Error:  27893\n",
      "Max leaf nodes: 500  \t\t Mean Absolute Error:  29454\n",
      "\n",
      " {5: 35044.51299744237, 25: 29016.41319191076, 50: 27405.930473214907, 100: 27282.50803885739, 250: 27893.822225701646, 500: 29454.18598068598}\n",
      "\n",
      " 100 27282.50803885739\n"
     ]
    },
    {
     "data": {
      "application/javascript": [
       "parent.postMessage({\"jupyterEvent\": \"custom.exercise_interaction\", \"data\": {\"outcomeType\": 1, \"valueTowardsCompletion\": 0.5, \"interactionType\": 1, \"questionType\": 1, \"questionId\": \"1_BestTreeSize\", \"learnToolsVersion\": \"0.3.4\", \"failureMessage\": \"\", \"exceptionClass\": \"\", \"trace\": \"\"}}, \"*\")"
      ],
      "text/plain": [
       "<IPython.core.display.Javascript object>"
      ]
     },
     "metadata": {},
     "output_type": "display_data"
    },
    {
     "data": {
      "text/markdown": [
       "<span style=\"color:#33cc33\">Correct</span>"
      ],
      "text/plain": [
       "Correct"
      ]
     },
     "metadata": {},
     "output_type": "display_data"
    }
   ],
   "source": [
    "candidate_max_leaf_nodes = [5, 25, 50, 100, 250, 500]\n",
    "# Write loop to find the ideal tree size from candidate_max_leaf_nodes\n",
    "for max_leaf_nodes in candidate_max_leaf_nodes:\n",
    "    my_mae = get_mae(max_leaf_nodes, train_X, val_X, train_y, val_y)\n",
    "    print(\"Max leaf nodes: %d  \\t\\t Mean Absolute Error:  %d\" %(max_leaf_nodes, my_mae))\n",
    "\n",
    "# Store the best value of max_leaf_nodes (it will be either 5, 25, 50, 100, 250 or 500)\n",
    "scores = {leaf_size: get_mae(leaf_size, train_X, val_X, train_y, val_y) for leaf_size in candidate_max_leaf_nodes}\n",
    "print(\"\\n\",scores)\n",
    "best_tree_size = min(scores, key=scores.get)\n",
    "\n",
    "print(\"\\n\", best_tree_size, scores[best_tree_size])\n",
    "\n",
    "# Check your answer\n",
    "step_1.check()"
   ]
  },
  {
   "cell_type": "code",
   "execution_count": 4,
   "id": "975a9fb6",
   "metadata": {
    "execution": {
     "iopub.execute_input": "2022-02-18T18:34:43.156098Z",
     "iopub.status.busy": "2022-02-18T18:34:43.155137Z",
     "iopub.status.idle": "2022-02-18T18:34:43.158298Z",
     "shell.execute_reply": "2022-02-18T18:34:43.157759Z"
    },
    "papermill": {
     "duration": 0.021883,
     "end_time": "2022-02-18T18:34:43.158439",
     "exception": false,
     "start_time": "2022-02-18T18:34:43.136556",
     "status": "completed"
    },
    "tags": []
   },
   "outputs": [],
   "source": [
    "# The lines below will show you a hint or the solution.\n",
    "# step_1.hint() \n",
    "# step_1.solution()"
   ]
  },
  {
   "cell_type": "markdown",
   "id": "504f8440",
   "metadata": {
    "papermill": {
     "duration": 0.014482,
     "end_time": "2022-02-18T18:34:43.187829",
     "exception": false,
     "start_time": "2022-02-18T18:34:43.173347",
     "status": "completed"
    },
    "tags": []
   },
   "source": [
    "## Step 2: Fit Model Using All Data\n",
    "You know the best tree size. If you were going to deploy this model in practice, you would make it even more accurate by using all of the data and keeping that tree size.  That is, you don't need to hold out the validation data now that you've made all your modeling decisions."
   ]
  },
  {
   "cell_type": "code",
   "execution_count": 5,
   "id": "312575c4",
   "metadata": {
    "execution": {
     "iopub.execute_input": "2022-02-18T18:34:43.225940Z",
     "iopub.status.busy": "2022-02-18T18:34:43.224988Z",
     "iopub.status.idle": "2022-02-18T18:34:43.238488Z",
     "shell.execute_reply": "2022-02-18T18:34:43.237829Z",
     "shell.execute_reply.started": "2022-02-18T18:19:29.968322Z"
    },
    "papermill": {
     "duration": 0.035984,
     "end_time": "2022-02-18T18:34:43.238636",
     "exception": false,
     "start_time": "2022-02-18T18:34:43.202652",
     "status": "completed"
    },
    "tags": []
   },
   "outputs": [
    {
     "data": {
      "application/javascript": [
       "parent.postMessage({\"jupyterEvent\": \"custom.exercise_interaction\", \"data\": {\"outcomeType\": 1, \"valueTowardsCompletion\": 0.5, \"interactionType\": 1, \"questionType\": 2, \"questionId\": \"2_FitModelWithAllData\", \"learnToolsVersion\": \"0.3.4\", \"failureMessage\": \"\", \"exceptionClass\": \"\", \"trace\": \"\"}}, \"*\")"
      ],
      "text/plain": [
       "<IPython.core.display.Javascript object>"
      ]
     },
     "metadata": {},
     "output_type": "display_data"
    },
    {
     "data": {
      "text/markdown": [
       "<span style=\"color:#33cc33\">Correct</span>"
      ],
      "text/plain": [
       "Correct"
      ]
     },
     "metadata": {},
     "output_type": "display_data"
    }
   ],
   "source": [
    "# Fill in argument to make optimal size and uncomment\n",
    "final_model = DecisionTreeRegressor(max_leaf_nodes=best_tree_size, random_state=0)\n",
    "\n",
    "# fit the final model and uncomment the next two lines\n",
    "final_model.fit(X, y)\n",
    "\n",
    "# Check your answer\n",
    "step_2.check()"
   ]
  },
  {
   "cell_type": "code",
   "execution_count": 6,
   "id": "e565dee7",
   "metadata": {
    "execution": {
     "iopub.execute_input": "2022-02-18T18:34:43.275970Z",
     "iopub.status.busy": "2022-02-18T18:34:43.275051Z",
     "iopub.status.idle": "2022-02-18T18:34:43.277557Z",
     "shell.execute_reply": "2022-02-18T18:34:43.278010Z"
    },
    "papermill": {
     "duration": 0.023368,
     "end_time": "2022-02-18T18:34:43.278186",
     "exception": false,
     "start_time": "2022-02-18T18:34:43.254818",
     "status": "completed"
    },
    "tags": []
   },
   "outputs": [],
   "source": [
    "# step_2.hint()\n",
    "# step_2.solution()"
   ]
  },
  {
   "cell_type": "markdown",
   "id": "2a003f79",
   "metadata": {
    "papermill": {
     "duration": 0.015936,
     "end_time": "2022-02-18T18:34:43.310429",
     "exception": false,
     "start_time": "2022-02-18T18:34:43.294493",
     "status": "completed"
    },
    "tags": []
   },
   "source": [
    "You've tuned this model and improved your results. But we are still using Decision Tree models, which are not very sophisticated by modern machine learning standards. In the next step you will learn to use Random Forests to improve your models even more.\n",
    "\n",
    "# Keep Going\n",
    "\n",
    "You are ready for **[Random Forests](https://www.kaggle.com/dansbecker/random-forests).**\n"
   ]
  },
  {
   "cell_type": "markdown",
   "id": "ced5cdd3",
   "metadata": {
    "papermill": {
     "duration": 0.015968,
     "end_time": "2022-02-18T18:34:43.342663",
     "exception": false,
     "start_time": "2022-02-18T18:34:43.326695",
     "status": "completed"
    },
    "tags": []
   },
   "source": [
    "---\n",
    "\n",
    "\n",
    "\n",
    "\n",
    "*Have questions or comments? Visit the [course discussion forum](https://www.kaggle.com/learn/intro-to-machine-learning/discussion) to chat with other learners.*"
   ]
  }
 ],
 "metadata": {
  "kernelspec": {
   "display_name": "Python 3",
   "language": "python",
   "name": "python3"
  },
  "language_info": {
   "codemirror_mode": {
    "name": "ipython",
    "version": 3
   },
   "file_extension": ".py",
   "mimetype": "text/x-python",
   "name": "python",
   "nbconvert_exporter": "python",
   "pygments_lexer": "ipython3",
   "version": "3.7.12"
  },
  "papermill": {
   "default_parameters": {},
   "duration": 15.129853,
   "end_time": "2022-02-18T18:34:44.172147",
   "environment_variables": {},
   "exception": null,
   "input_path": "__notebook__.ipynb",
   "output_path": "__notebook__.ipynb",
   "parameters": {},
   "start_time": "2022-02-18T18:34:29.042294",
   "version": "2.3.3"
  }
 },
 "nbformat": 4,
 "nbformat_minor": 5
}
